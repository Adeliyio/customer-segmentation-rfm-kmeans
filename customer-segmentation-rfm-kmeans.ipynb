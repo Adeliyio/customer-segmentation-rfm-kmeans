{
 "cells": [
  {
   "cell_type": "markdown",
   "id": "8f04a2c2",
   "metadata": {},
   "source": [
    "### Import the Relevant Libraries"
   ]
  },
  {
   "cell_type": "code",
   "execution_count": 1,
   "id": "39d873c0",
   "metadata": {},
   "outputs": [],
   "source": [
    "import pandas as pd\n",
    "import numpy as np\n",
    "from sklearn.preprocessing import StandardScaler\n",
    "from sklearn.decomposition import PCA\n",
    "from sklearn.cluster import KMeans\n",
    "from sklearn.metrics import silhouette_score\n",
    "from statsmodels.stats.outliers_influence import variance_inflation_factor\n",
    "import seaborn as sns\n",
    "import matplotlib.pyplot as plt\n",
    "import datetime\n",
    "import warnings\n",
    "import joblib\n",
    "warnings.filterwarnings('ignore')"
   ]
  },
  {
   "cell_type": "markdown",
   "id": "46cce62a",
   "metadata": {},
   "source": [
    "\n",
    "### Import Libraries and Load Dataset"
   ]
  },
  {
   "cell_type": "code",
   "execution_count": 2,
   "id": "8d8c9de6",
   "metadata": {},
   "outputs": [
    {
     "data": {
      "text/html": [
       "<div>\n",
       "<style scoped>\n",
       "    .dataframe tbody tr th:only-of-type {\n",
       "        vertical-align: middle;\n",
       "    }\n",
       "\n",
       "    .dataframe tbody tr th {\n",
       "        vertical-align: top;\n",
       "    }\n",
       "\n",
       "    .dataframe thead th {\n",
       "        text-align: right;\n",
       "    }\n",
       "</style>\n",
       "<table border=\"1\" class=\"dataframe\">\n",
       "  <thead>\n",
       "    <tr style=\"text-align: right;\">\n",
       "      <th></th>\n",
       "      <th>InvoiceNo</th>\n",
       "      <th>StockCode</th>\n",
       "      <th>Description</th>\n",
       "      <th>Quantity</th>\n",
       "      <th>InvoiceDate</th>\n",
       "      <th>UnitPrice</th>\n",
       "      <th>CustomerID</th>\n",
       "      <th>Country</th>\n",
       "    </tr>\n",
       "  </thead>\n",
       "  <tbody>\n",
       "    <tr>\n",
       "      <th>0</th>\n",
       "      <td>536365</td>\n",
       "      <td>85123A</td>\n",
       "      <td>WHITE HANGING HEART T-LIGHT HOLDER</td>\n",
       "      <td>6</td>\n",
       "      <td>2010-12-01 08:26:00</td>\n",
       "      <td>2.55</td>\n",
       "      <td>17850.0</td>\n",
       "      <td>United Kingdom</td>\n",
       "    </tr>\n",
       "    <tr>\n",
       "      <th>1</th>\n",
       "      <td>536365</td>\n",
       "      <td>71053</td>\n",
       "      <td>WHITE METAL LANTERN</td>\n",
       "      <td>6</td>\n",
       "      <td>2010-12-01 08:26:00</td>\n",
       "      <td>3.39</td>\n",
       "      <td>17850.0</td>\n",
       "      <td>United Kingdom</td>\n",
       "    </tr>\n",
       "    <tr>\n",
       "      <th>2</th>\n",
       "      <td>536365</td>\n",
       "      <td>84406B</td>\n",
       "      <td>CREAM CUPID HEARTS COAT HANGER</td>\n",
       "      <td>8</td>\n",
       "      <td>2010-12-01 08:26:00</td>\n",
       "      <td>2.75</td>\n",
       "      <td>17850.0</td>\n",
       "      <td>United Kingdom</td>\n",
       "    </tr>\n",
       "    <tr>\n",
       "      <th>3</th>\n",
       "      <td>536365</td>\n",
       "      <td>84029G</td>\n",
       "      <td>KNITTED UNION FLAG HOT WATER BOTTLE</td>\n",
       "      <td>6</td>\n",
       "      <td>2010-12-01 08:26:00</td>\n",
       "      <td>3.39</td>\n",
       "      <td>17850.0</td>\n",
       "      <td>United Kingdom</td>\n",
       "    </tr>\n",
       "    <tr>\n",
       "      <th>4</th>\n",
       "      <td>536365</td>\n",
       "      <td>84029E</td>\n",
       "      <td>RED WOOLLY HOTTIE WHITE HEART.</td>\n",
       "      <td>6</td>\n",
       "      <td>2010-12-01 08:26:00</td>\n",
       "      <td>3.39</td>\n",
       "      <td>17850.0</td>\n",
       "      <td>United Kingdom</td>\n",
       "    </tr>\n",
       "  </tbody>\n",
       "</table>\n",
       "</div>"
      ],
      "text/plain": [
       "  InvoiceNo StockCode                          Description  Quantity  \\\n",
       "0    536365    85123A   WHITE HANGING HEART T-LIGHT HOLDER         6   \n",
       "1    536365     71053                  WHITE METAL LANTERN         6   \n",
       "2    536365    84406B       CREAM CUPID HEARTS COAT HANGER         8   \n",
       "3    536365    84029G  KNITTED UNION FLAG HOT WATER BOTTLE         6   \n",
       "4    536365    84029E       RED WOOLLY HOTTIE WHITE HEART.         6   \n",
       "\n",
       "          InvoiceDate  UnitPrice  CustomerID         Country  \n",
       "0 2010-12-01 08:26:00       2.55     17850.0  United Kingdom  \n",
       "1 2010-12-01 08:26:00       3.39     17850.0  United Kingdom  \n",
       "2 2010-12-01 08:26:00       2.75     17850.0  United Kingdom  \n",
       "3 2010-12-01 08:26:00       3.39     17850.0  United Kingdom  \n",
       "4 2010-12-01 08:26:00       3.39     17850.0  United Kingdom  "
      ]
     },
     "execution_count": 2,
     "metadata": {},
     "output_type": "execute_result"
    }
   ],
   "source": [
    "# Load the dataset from a remote Excel file, parsing 'InvoiceDate' as datetime\n",
    "df = pd.read_excel('https://archive.ics.uci.edu/ml/machine-learning-databases/00352/Online%20Retail.xlsx', parse_dates=['InvoiceDate'])\n",
    "\n",
    "# Display the first few rows of the dataset\n",
    "df.head()"
   ]
  },
  {
   "cell_type": "markdown",
   "id": "c75c57fe",
   "metadata": {},
   "source": [
    "## Data Exploration and Pre-Processing"
   ]
  },
  {
   "cell_type": "code",
   "execution_count": 3,
   "id": "02b2b982",
   "metadata": {},
   "outputs": [
    {
     "data": {
      "text/plain": [
       "(541909, 8)"
      ]
     },
     "execution_count": 3,
     "metadata": {},
     "output_type": "execute_result"
    }
   ],
   "source": [
    "# Print the shape of the dataset\n",
    "df.shape"
   ]
  },
  {
   "cell_type": "code",
   "execution_count": 4,
   "id": "85d915ec",
   "metadata": {},
   "outputs": [
    {
     "name": "stdout",
     "output_type": "stream",
     "text": [
      "<class 'pandas.core.frame.DataFrame'>\n",
      "RangeIndex: 541909 entries, 0 to 541908\n",
      "Data columns (total 8 columns):\n",
      " #   Column       Non-Null Count   Dtype         \n",
      "---  ------       --------------   -----         \n",
      " 0   InvoiceNo    541909 non-null  object        \n",
      " 1   StockCode    541909 non-null  object        \n",
      " 2   Description  540455 non-null  object        \n",
      " 3   Quantity     541909 non-null  int64         \n",
      " 4   InvoiceDate  541909 non-null  datetime64[ns]\n",
      " 5   UnitPrice    541909 non-null  float64       \n",
      " 6   CustomerID   406829 non-null  float64       \n",
      " 7   Country      541909 non-null  object        \n",
      "dtypes: datetime64[ns](1), float64(2), int64(1), object(4)\n",
      "memory usage: 33.1+ MB\n"
     ]
    }
   ],
   "source": [
    "# Display concise summary information about the dataset\n",
    "df.info()"
   ]
  },
  {
   "cell_type": "code",
   "execution_count": 5,
   "id": "8166e19b",
   "metadata": {},
   "outputs": [
    {
     "data": {
      "text/plain": [
       "Index(['InvoiceNo', 'StockCode', 'Description', 'Quantity', 'InvoiceDate',\n",
       "       'UnitPrice', 'CustomerID', 'Country'],\n",
       "      dtype='object')"
      ]
     },
     "execution_count": 5,
     "metadata": {},
     "output_type": "execute_result"
    }
   ],
   "source": [
    "# Print the column names of the dataset\n",
    "df.columns"
   ]
  },
  {
   "cell_type": "code",
   "execution_count": 6,
   "id": "40f31542",
   "metadata": {},
   "outputs": [
    {
     "data": {
      "text/plain": [
       "InvoiceNo      25900\n",
       "StockCode       4070\n",
       "Description     4223\n",
       "Quantity         722\n",
       "InvoiceDate    23260\n",
       "UnitPrice       1630\n",
       "CustomerID      4372\n",
       "Country           38\n",
       "dtype: int64"
      ]
     },
     "execution_count": 6,
     "metadata": {},
     "output_type": "execute_result"
    }
   ],
   "source": [
    "# Check the number of unique values in each column\n",
    "df.nunique()"
   ]
  },
  {
   "cell_type": "code",
   "execution_count": 8,
   "id": "0d47b7d6",
   "metadata": {},
   "outputs": [
    {
     "name": "stdout",
     "output_type": "stream",
     "text": [
      "There are 5268 duplicated values.\n"
     ]
    },
    {
     "data": {
      "text/html": [
       "<div>\n",
       "<style scoped>\n",
       "    .dataframe tbody tr th:only-of-type {\n",
       "        vertical-align: middle;\n",
       "    }\n",
       "\n",
       "    .dataframe tbody tr th {\n",
       "        vertical-align: top;\n",
       "    }\n",
       "\n",
       "    .dataframe thead th {\n",
       "        text-align: right;\n",
       "    }\n",
       "</style>\n",
       "<table border=\"1\" class=\"dataframe\">\n",
       "  <thead>\n",
       "    <tr style=\"text-align: right;\">\n",
       "      <th></th>\n",
       "      <th>InvoiceNo</th>\n",
       "      <th>StockCode</th>\n",
       "      <th>Description</th>\n",
       "      <th>Quantity</th>\n",
       "      <th>InvoiceDate</th>\n",
       "      <th>UnitPrice</th>\n",
       "      <th>CustomerID</th>\n",
       "      <th>Country</th>\n",
       "    </tr>\n",
       "  </thead>\n",
       "  <tbody>\n",
       "    <tr>\n",
       "      <th>485</th>\n",
       "      <td>536409</td>\n",
       "      <td>22111</td>\n",
       "      <td>SCOTTIE DOG HOT WATER BOTTLE</td>\n",
       "      <td>1</td>\n",
       "      <td>2010-12-01 11:45:00</td>\n",
       "      <td>4.95</td>\n",
       "      <td>17908.0</td>\n",
       "      <td>United Kingdom</td>\n",
       "    </tr>\n",
       "    <tr>\n",
       "      <th>489</th>\n",
       "      <td>536409</td>\n",
       "      <td>22866</td>\n",
       "      <td>HAND WARMER SCOTTY DOG DESIGN</td>\n",
       "      <td>1</td>\n",
       "      <td>2010-12-01 11:45:00</td>\n",
       "      <td>2.10</td>\n",
       "      <td>17908.0</td>\n",
       "      <td>United Kingdom</td>\n",
       "    </tr>\n",
       "    <tr>\n",
       "      <th>494</th>\n",
       "      <td>536409</td>\n",
       "      <td>21866</td>\n",
       "      <td>UNION JACK FLAG LUGGAGE TAG</td>\n",
       "      <td>1</td>\n",
       "      <td>2010-12-01 11:45:00</td>\n",
       "      <td>1.25</td>\n",
       "      <td>17908.0</td>\n",
       "      <td>United Kingdom</td>\n",
       "    </tr>\n",
       "    <tr>\n",
       "      <th>517</th>\n",
       "      <td>536409</td>\n",
       "      <td>21866</td>\n",
       "      <td>UNION JACK FLAG LUGGAGE TAG</td>\n",
       "      <td>1</td>\n",
       "      <td>2010-12-01 11:45:00</td>\n",
       "      <td>1.25</td>\n",
       "      <td>17908.0</td>\n",
       "      <td>United Kingdom</td>\n",
       "    </tr>\n",
       "  </tbody>\n",
       "</table>\n",
       "</div>"
      ],
      "text/plain": [
       "    InvoiceNo StockCode                    Description  Quantity  \\\n",
       "485    536409     22111   SCOTTIE DOG HOT WATER BOTTLE         1   \n",
       "489    536409     22866  HAND WARMER SCOTTY DOG DESIGN         1   \n",
       "494    536409     21866    UNION JACK FLAG LUGGAGE TAG         1   \n",
       "517    536409     21866    UNION JACK FLAG LUGGAGE TAG         1   \n",
       "\n",
       "            InvoiceDate  UnitPrice  CustomerID         Country  \n",
       "485 2010-12-01 11:45:00       4.95     17908.0  United Kingdom  \n",
       "489 2010-12-01 11:45:00       2.10     17908.0  United Kingdom  \n",
       "494 2010-12-01 11:45:00       1.25     17908.0  United Kingdom  \n",
       "517 2010-12-01 11:45:00       1.25     17908.0  United Kingdom  "
      ]
     },
     "execution_count": 8,
     "metadata": {},
     "output_type": "execute_result"
    }
   ],
   "source": [
    "print(\"There are {} duplicated values.\".format(df.duplicated().sum()))\n",
    "df[df.duplicated(keep=False)].head(4)"
   ]
  },
  {
   "cell_type": "code",
   "execution_count": 9,
   "id": "b83c3b6c",
   "metadata": {},
   "outputs": [
    {
     "data": {
      "text/html": [
       "<div>\n",
       "<style scoped>\n",
       "    .dataframe tbody tr th:only-of-type {\n",
       "        vertical-align: middle;\n",
       "    }\n",
       "\n",
       "    .dataframe tbody tr th {\n",
       "        vertical-align: top;\n",
       "    }\n",
       "\n",
       "    .dataframe thead th {\n",
       "        text-align: right;\n",
       "    }\n",
       "</style>\n",
       "<table border=\"1\" class=\"dataframe\">\n",
       "  <thead>\n",
       "    <tr style=\"text-align: right;\">\n",
       "      <th></th>\n",
       "      <th>InvoiceNo</th>\n",
       "      <th>StockCode</th>\n",
       "      <th>Description</th>\n",
       "      <th>Quantity</th>\n",
       "      <th>InvoiceDate</th>\n",
       "      <th>UnitPrice</th>\n",
       "      <th>CustomerID</th>\n",
       "      <th>Country</th>\n",
       "    </tr>\n",
       "  </thead>\n",
       "  <tbody>\n",
       "    <tr>\n",
       "      <th>0</th>\n",
       "      <td>536365</td>\n",
       "      <td>85123A</td>\n",
       "      <td>WHITE HANGING HEART T-LIGHT HOLDER</td>\n",
       "      <td>6</td>\n",
       "      <td>2010-12-01 08:26:00</td>\n",
       "      <td>2.55</td>\n",
       "      <td>17850.0</td>\n",
       "      <td>United Kingdom</td>\n",
       "    </tr>\n",
       "    <tr>\n",
       "      <th>1</th>\n",
       "      <td>536365</td>\n",
       "      <td>71053</td>\n",
       "      <td>WHITE METAL LANTERN</td>\n",
       "      <td>6</td>\n",
       "      <td>2010-12-01 08:26:00</td>\n",
       "      <td>3.39</td>\n",
       "      <td>17850.0</td>\n",
       "      <td>United Kingdom</td>\n",
       "    </tr>\n",
       "    <tr>\n",
       "      <th>2</th>\n",
       "      <td>536365</td>\n",
       "      <td>84406B</td>\n",
       "      <td>CREAM CUPID HEARTS COAT HANGER</td>\n",
       "      <td>8</td>\n",
       "      <td>2010-12-01 08:26:00</td>\n",
       "      <td>2.75</td>\n",
       "      <td>17850.0</td>\n",
       "      <td>United Kingdom</td>\n",
       "    </tr>\n",
       "    <tr>\n",
       "      <th>3</th>\n",
       "      <td>536365</td>\n",
       "      <td>84029G</td>\n",
       "      <td>KNITTED UNION FLAG HOT WATER BOTTLE</td>\n",
       "      <td>6</td>\n",
       "      <td>2010-12-01 08:26:00</td>\n",
       "      <td>3.39</td>\n",
       "      <td>17850.0</td>\n",
       "      <td>United Kingdom</td>\n",
       "    </tr>\n",
       "    <tr>\n",
       "      <th>4</th>\n",
       "      <td>536365</td>\n",
       "      <td>84029E</td>\n",
       "      <td>RED WOOLLY HOTTIE WHITE HEART.</td>\n",
       "      <td>6</td>\n",
       "      <td>2010-12-01 08:26:00</td>\n",
       "      <td>3.39</td>\n",
       "      <td>17850.0</td>\n",
       "      <td>United Kingdom</td>\n",
       "    </tr>\n",
       "    <tr>\n",
       "      <th>...</th>\n",
       "      <td>...</td>\n",
       "      <td>...</td>\n",
       "      <td>...</td>\n",
       "      <td>...</td>\n",
       "      <td>...</td>\n",
       "      <td>...</td>\n",
       "      <td>...</td>\n",
       "      <td>...</td>\n",
       "    </tr>\n",
       "    <tr>\n",
       "      <th>541904</th>\n",
       "      <td>581587</td>\n",
       "      <td>22613</td>\n",
       "      <td>PACK OF 20 SPACEBOY NAPKINS</td>\n",
       "      <td>12</td>\n",
       "      <td>2011-12-09 12:50:00</td>\n",
       "      <td>0.85</td>\n",
       "      <td>12680.0</td>\n",
       "      <td>France</td>\n",
       "    </tr>\n",
       "    <tr>\n",
       "      <th>541905</th>\n",
       "      <td>581587</td>\n",
       "      <td>22899</td>\n",
       "      <td>CHILDREN'S APRON DOLLY GIRL</td>\n",
       "      <td>6</td>\n",
       "      <td>2011-12-09 12:50:00</td>\n",
       "      <td>2.10</td>\n",
       "      <td>12680.0</td>\n",
       "      <td>France</td>\n",
       "    </tr>\n",
       "    <tr>\n",
       "      <th>541906</th>\n",
       "      <td>581587</td>\n",
       "      <td>23254</td>\n",
       "      <td>CHILDRENS CUTLERY DOLLY GIRL</td>\n",
       "      <td>4</td>\n",
       "      <td>2011-12-09 12:50:00</td>\n",
       "      <td>4.15</td>\n",
       "      <td>12680.0</td>\n",
       "      <td>France</td>\n",
       "    </tr>\n",
       "    <tr>\n",
       "      <th>541907</th>\n",
       "      <td>581587</td>\n",
       "      <td>23255</td>\n",
       "      <td>CHILDRENS CUTLERY CIRCUS PARADE</td>\n",
       "      <td>4</td>\n",
       "      <td>2011-12-09 12:50:00</td>\n",
       "      <td>4.15</td>\n",
       "      <td>12680.0</td>\n",
       "      <td>France</td>\n",
       "    </tr>\n",
       "    <tr>\n",
       "      <th>541908</th>\n",
       "      <td>581587</td>\n",
       "      <td>22138</td>\n",
       "      <td>BAKING SET 9 PIECE RETROSPOT</td>\n",
       "      <td>3</td>\n",
       "      <td>2011-12-09 12:50:00</td>\n",
       "      <td>4.95</td>\n",
       "      <td>12680.0</td>\n",
       "      <td>France</td>\n",
       "    </tr>\n",
       "  </tbody>\n",
       "</table>\n",
       "<p>536641 rows × 8 columns</p>\n",
       "</div>"
      ],
      "text/plain": [
       "       InvoiceNo StockCode                          Description  Quantity  \\\n",
       "0         536365    85123A   WHITE HANGING HEART T-LIGHT HOLDER         6   \n",
       "1         536365     71053                  WHITE METAL LANTERN         6   \n",
       "2         536365    84406B       CREAM CUPID HEARTS COAT HANGER         8   \n",
       "3         536365    84029G  KNITTED UNION FLAG HOT WATER BOTTLE         6   \n",
       "4         536365    84029E       RED WOOLLY HOTTIE WHITE HEART.         6   \n",
       "...          ...       ...                                  ...       ...   \n",
       "541904    581587     22613          PACK OF 20 SPACEBOY NAPKINS        12   \n",
       "541905    581587     22899         CHILDREN'S APRON DOLLY GIRL          6   \n",
       "541906    581587     23254        CHILDRENS CUTLERY DOLLY GIRL          4   \n",
       "541907    581587     23255      CHILDRENS CUTLERY CIRCUS PARADE         4   \n",
       "541908    581587     22138        BAKING SET 9 PIECE RETROSPOT          3   \n",
       "\n",
       "               InvoiceDate  UnitPrice  CustomerID         Country  \n",
       "0      2010-12-01 08:26:00       2.55     17850.0  United Kingdom  \n",
       "1      2010-12-01 08:26:00       3.39     17850.0  United Kingdom  \n",
       "2      2010-12-01 08:26:00       2.75     17850.0  United Kingdom  \n",
       "3      2010-12-01 08:26:00       3.39     17850.0  United Kingdom  \n",
       "4      2010-12-01 08:26:00       3.39     17850.0  United Kingdom  \n",
       "...                    ...        ...         ...             ...  \n",
       "541904 2011-12-09 12:50:00       0.85     12680.0          France  \n",
       "541905 2011-12-09 12:50:00       2.10     12680.0          France  \n",
       "541906 2011-12-09 12:50:00       4.15     12680.0          France  \n",
       "541907 2011-12-09 12:50:00       4.15     12680.0          France  \n",
       "541908 2011-12-09 12:50:00       4.95     12680.0          France  \n",
       "\n",
       "[536641 rows x 8 columns]"
      ]
     },
     "execution_count": 9,
     "metadata": {},
     "output_type": "execute_result"
    }
   ],
   "source": [
    "new_data = df.drop_duplicates()\n",
    "new_data"
   ]
  },
  {
   "cell_type": "code",
   "execution_count": 10,
   "id": "125debfa",
   "metadata": {},
   "outputs": [
    {
     "data": {
      "text/plain": [
       "0"
      ]
     },
     "execution_count": 10,
     "metadata": {},
     "output_type": "execute_result"
    }
   ],
   "source": [
    "new_data.duplicated().sum()"
   ]
  },
  {
   "cell_type": "code",
   "execution_count": 11,
   "id": "f4626b47",
   "metadata": {},
   "outputs": [
    {
     "name": "stdout",
     "output_type": "stream",
     "text": [
      "InvoiceNo              object\n",
      "StockCode              object\n",
      "Description            object\n",
      "Quantity                int64\n",
      "InvoiceDate    datetime64[ns]\n",
      "UnitPrice             float64\n",
      "CustomerID            float64\n",
      "Country                object\n",
      "dtype: object\n"
     ]
    }
   ],
   "source": [
    "# Check the data types of each column\n",
    "data_types = new_data.dtypes\n",
    "print(data_types)"
   ]
  },
  {
   "cell_type": "code",
   "execution_count": 12,
   "id": "2493ec15",
   "metadata": {},
   "outputs": [
    {
     "data": {
      "text/plain": [
       "InvoiceNo           0\n",
       "StockCode           0\n",
       "Description      1454\n",
       "Quantity            0\n",
       "InvoiceDate         0\n",
       "UnitPrice           0\n",
       "CustomerID     135037\n",
       "Country             0\n",
       "dtype: int64"
      ]
     },
     "execution_count": 12,
     "metadata": {},
     "output_type": "execute_result"
    }
   ],
   "source": [
    "new_data.isnull().sum()"
   ]
  },
  {
   "cell_type": "code",
   "execution_count": 13,
   "id": "e8be4a31",
   "metadata": {},
   "outputs": [
    {
     "name": "stdout",
     "output_type": "stream",
     "text": [
      "Percentage of Null Values in Each Column:\n",
      "InvoiceNo       0.000000\n",
      "StockCode       0.000000\n",
      "Description     0.270945\n",
      "Quantity        0.000000\n",
      "InvoiceDate     0.000000\n",
      "UnitPrice       0.000000\n",
      "CustomerID     25.163377\n",
      "Country         0.000000\n",
      "dtype: float64\n"
     ]
    }
   ],
   "source": [
    "# Calculate percentage of null values in each column\n",
    "null_percentage = (new_data.isnull().sum() / len(new_data)) * 100\n",
    "print(\"Percentage of Null Values in Each Column:\")\n",
    "print(null_percentage)"
   ]
  },
  {
   "cell_type": "code",
   "execution_count": 14,
   "id": "018fb889",
   "metadata": {},
   "outputs": [
    {
     "data": {
      "text/plain": [
       "InvoiceNo      0\n",
       "StockCode      0\n",
       "Description    0\n",
       "Quantity       0\n",
       "InvoiceDate    0\n",
       "UnitPrice      0\n",
       "CustomerID     0\n",
       "Country        0\n",
       "dtype: int64"
      ]
     },
     "execution_count": 14,
     "metadata": {},
     "output_type": "execute_result"
    }
   ],
   "source": [
    "# select the portion of dataframe with no missing values for the column \"CustomerID\"\n",
    "clean_data = new_data[pd.notnull(new_data[\"CustomerID\"])]\n",
    "clean_data.isnull().sum()"
   ]
  },
  {
   "cell_type": "code",
   "execution_count": 15,
   "id": "ddb8aa86",
   "metadata": {},
   "outputs": [
    {
     "name": "stdout",
     "output_type": "stream",
     "text": [
      "                 Country  Total Transactions  Percentage of Total Transactions\n",
      "0              Australia                1258                          0.313244\n",
      "1                Austria                 401                          0.099850\n",
      "2                Bahrain                  17                          0.004233\n",
      "3                Belgium                2069                          0.515184\n",
      "4                 Brazil                  32                          0.007968\n",
      "5                 Canada                 151                          0.037599\n",
      "6        Channel Islands                 757                          0.188494\n",
      "7                 Cyprus                 611                          0.152140\n",
      "8         Czech Republic                  30                          0.007470\n",
      "9                Denmark                 389                          0.096862\n",
      "10                  EIRE                7475                          1.861286\n",
      "11    European Community                  61                          0.015189\n",
      "12               Finland                 695                          0.173056\n",
      "13                France                8475                          2.110288\n",
      "14               Germany                9480                          2.360534\n",
      "15                Greece                 146                          0.036354\n",
      "16               Iceland                 182                          0.045318\n",
      "17                Israel                 247                          0.061503\n",
      "18                 Italy                 803                          0.199948\n",
      "19                 Japan                 358                          0.089143\n",
      "20               Lebanon                  45                          0.011205\n",
      "21             Lithuania                  35                          0.008715\n",
      "22                 Malta                 127                          0.031623\n",
      "23           Netherlands                2371                          0.590383\n",
      "24                Norway                1086                          0.270416\n",
      "25                Poland                 341                          0.084910\n",
      "26              Portugal                1471                          0.366281\n",
      "27                   RSA                  58                          0.014442\n",
      "28          Saudi Arabia                  10                          0.002490\n",
      "29             Singapore                 229                          0.057021\n",
      "30                 Spain                2528                          0.629476\n",
      "31                Sweden                 461                          0.114790\n",
      "32           Switzerland                1877                          0.467376\n",
      "33                   USA                 291                          0.072459\n",
      "34  United Arab Emirates                  68                          0.016932\n",
      "35        United Kingdom              356728                         88.825809\n",
      "36           Unspecified                 241                          0.060009\n"
     ]
    }
   ],
   "source": [
    "# Calculate total transactions by country\n",
    "total_transactions_by_country = clean_data.groupby('Country')['InvoiceNo'].count().reset_index()\n",
    "total_transactions_by_country.columns = ['Country', 'Total Transactions']\n",
    "\n",
    "# Calculate total transactions across all countries\n",
    "total_transactions_all_countries = total_transactions_by_country['Total Transactions'].sum()\n",
    "\n",
    "# Calculate percentage of total transactions for each country\n",
    "total_transactions_by_country['Percentage of Total Transactions'] = (total_transactions_by_country['Total Transactions'] / total_transactions_all_countries) * 100\n",
    "print(total_transactions_by_country)"
   ]
  },
  {
   "cell_type": "code",
   "execution_count": 19,
   "id": "8351b36b",
   "metadata": {},
   "outputs": [
    {
     "data": {
      "image/png": "[encoded data removed]",
      "text/plain": [
       "<Figure size 2400x1200 with 1 Axes>"
      ]
     },
     "metadata": {},
     "output_type": "display_data"
    }
   ],
   "source": [
    "# Plot the count of transactions by country with log-transformed x-axis\n",
    "sns.set(style=\"whitegrid\")\n",
    "plt.figure(figsize=(24, 12))\n",
    "sns.countplot(data=clean_data, y='Country', palette='viridis')\n",
    "plt.title('Transactions by Country')\n",
    "plt.xlabel('Transaction Count (Log Scale)')\n",
    "plt.ylabel('Country')\n",
    "plt.xscale('log')\n",
    "plt.xticks(rotation=45, ha='right')\n",
    "plt.show()"
   ]
  },
  {
   "cell_type": "code",
   "execution_count": 23,
   "id": "f2087b94",
   "metadata": {},
   "outputs": [
    {
     "name": "stdout",
     "output_type": "stream",
     "text": [
      "Distribution of Transactions Across Different Countries:\n",
      "United Kingdom          356728\n",
      "Germany                   9480\n",
      "France                    8475\n",
      "EIRE                      7475\n",
      "Spain                     2528\n",
      "Netherlands               2371\n",
      "Belgium                   2069\n",
      "Switzerland               1877\n",
      "Portugal                  1471\n",
      "Australia                 1258\n",
      "Norway                    1086\n",
      "Italy                      803\n",
      "Channel Islands            757\n",
      "Finland                    695\n",
      "Cyprus                     611\n",
      "Sweden                     461\n",
      "Austria                    401\n",
      "Denmark                    389\n",
      "Japan                      358\n",
      "Poland                     341\n",
      "USA                        291\n",
      "Israel                     247\n",
      "Unspecified                241\n",
      "Singapore                  229\n",
      "Iceland                    182\n",
      "Canada                     151\n",
      "Greece                     146\n",
      "Malta                      127\n",
      "United Arab Emirates        68\n",
      "European Community          61\n",
      "RSA                         58\n",
      "Lebanon                     45\n",
      "Lithuania                   35\n",
      "Brazil                      32\n",
      "Czech Republic              30\n",
      "Bahrain                     17\n",
      "Saudi Arabia                10\n",
      "Name: Country, dtype: int64\n",
      "\n",
      "Country with the Highest Number of Transactions: United Kingdom\n",
      "Country with the Lowest Number of Transactions: Saudi Arabia\n",
      "\n",
      "Market Penetration Across Different Countries:\n",
      "United Kingdom          88.825809\n",
      "Germany                  2.360534\n",
      "France                   2.110288\n",
      "EIRE                     1.861286\n",
      "Spain                    0.629476\n",
      "Netherlands              0.590383\n",
      "Belgium                  0.515184\n",
      "Switzerland              0.467376\n",
      "Portugal                 0.366281\n",
      "Australia                0.313244\n",
      "Norway                   0.270416\n",
      "Italy                    0.199948\n",
      "Channel Islands          0.188494\n",
      "Finland                  0.173056\n",
      "Cyprus                   0.152140\n",
      "Sweden                   0.114790\n",
      "Austria                  0.099850\n",
      "Denmark                  0.096862\n",
      "Japan                    0.089143\n",
      "Poland                   0.084910\n",
      "USA                      0.072459\n",
      "Israel                   0.061503\n",
      "Unspecified              0.060009\n",
      "Singapore                0.057021\n",
      "Iceland                  0.045318\n",
      "Canada                   0.037599\n",
      "Greece                   0.036354\n",
      "Malta                    0.031623\n",
      "United Arab Emirates     0.016932\n",
      "European Community       0.015189\n",
      "RSA                      0.014442\n",
      "Lebanon                  0.011205\n",
      "Lithuania                0.008715\n",
      "Brazil                   0.007968\n",
      "Czech Republic           0.007470\n",
      "Bahrain                  0.004233\n",
      "Saudi Arabia             0.002490\n",
      "Name: Country, dtype: float64\n"
     ]
    }
   ],
   "source": [
    "# Calculate the distribution of transactions across different countries\n",
    "transactions_by_country = clean_data['Country'].value_counts()\n",
    "print(\"Distribution of Transactions Across Different Countries:\")\n",
    "print(transactions_by_country)\n",
    "\n",
    "# Calculate the countries with the highest and lowest number of transactions\n",
    "highest_transactions_country = transactions_by_country.idxmax()\n",
    "lowest_transactions_country = transactions_by_country.idxmin()\n",
    "print(\"\\nCountry with the Highest Number of Transactions:\", highest_transactions_country)\n",
    "print(\"Country with the Lowest Number of Transactions:\", lowest_transactions_country)\n",
    "\n",
    "# Calculate the market penetration as a percentage for each country\n",
    "total_transactions = len(clean_data)\n",
    "market_penetration = (transactions_by_country / total_transactions) * 100\n",
    "print(\"\\nMarket Penetration Across Different Countries:\")\n",
    "print(market_penetration)"
   ]
  },
  {
   "cell_type": "code",
   "execution_count": 26,
   "id": "84a695ad",
   "metadata": {},
   "outputs": [],
   "source": [
    "# filter customers from United Kingdom\n",
    "data = clean_data[clean_data[\"Country\"] == \"United Kingdom\"]"
   ]
  },
  {
   "cell_type": "code",
   "execution_count": 27,
   "id": "e0a994e0",
   "metadata": {},
   "outputs": [
    {
     "name": "stdout",
     "output_type": "stream",
     "text": [
      "<class 'pandas.core.frame.DataFrame'>\n",
      "Int64Index: 356728 entries, 0 to 541893\n",
      "Data columns (total 8 columns):\n",
      " #   Column       Non-Null Count   Dtype         \n",
      "---  ------       --------------   -----         \n",
      " 0   InvoiceNo    356728 non-null  object        \n",
      " 1   StockCode    356728 non-null  object        \n",
      " 2   Description  356728 non-null  object        \n",
      " 3   Quantity     356728 non-null  int64         \n",
      " 4   InvoiceDate  356728 non-null  datetime64[ns]\n",
      " 5   UnitPrice    356728 non-null  float64       \n",
      " 6   CustomerID   356728 non-null  float64       \n",
      " 7   Country      356728 non-null  object        \n",
      "dtypes: datetime64[ns](1), float64(2), int64(1), object(4)\n",
      "memory usage: 24.5+ MB\n"
     ]
    }
   ],
   "source": [
    "data.info()"
   ]
  },
  {
   "cell_type": "code",
   "execution_count": 28,
   "id": "ec632e05",
   "metadata": {},
   "outputs": [
    {
     "data": {
      "text/html": [
       "<div>\n",
       "<style scoped>\n",
       "    .dataframe tbody tr th:only-of-type {\n",
       "        vertical-align: middle;\n",
       "    }\n",
       "\n",
       "    .dataframe tbody tr th {\n",
       "        vertical-align: top;\n",
       "    }\n",
       "\n",
       "    .dataframe thead th {\n",
       "        text-align: right;\n",
       "    }\n",
       "</style>\n",
       "<table border=\"1\" class=\"dataframe\">\n",
       "  <thead>\n",
       "    <tr style=\"text-align: right;\">\n",
       "      <th></th>\n",
       "      <th>Quantity</th>\n",
       "      <th>UnitPrice</th>\n",
       "      <th>CustomerID</th>\n",
       "    </tr>\n",
       "  </thead>\n",
       "  <tbody>\n",
       "    <tr>\n",
       "      <th>count</th>\n",
       "      <td>356728.000000</td>\n",
       "      <td>356728.000000</td>\n",
       "      <td>356728.000000</td>\n",
       "    </tr>\n",
       "    <tr>\n",
       "      <th>mean</th>\n",
       "      <td>11.198644</td>\n",
       "      <td>3.268255</td>\n",
       "      <td>15543.795284</td>\n",
       "    </tr>\n",
       "    <tr>\n",
       "      <th>std</th>\n",
       "      <td>264.998044</td>\n",
       "      <td>71.162330</td>\n",
       "      <td>1594.286219</td>\n",
       "    </tr>\n",
       "    <tr>\n",
       "      <th>min</th>\n",
       "      <td>-80995.000000</td>\n",
       "      <td>0.000000</td>\n",
       "      <td>12346.000000</td>\n",
       "    </tr>\n",
       "    <tr>\n",
       "      <th>25%</th>\n",
       "      <td>2.000000</td>\n",
       "      <td>1.250000</td>\n",
       "      <td>14191.000000</td>\n",
       "    </tr>\n",
       "    <tr>\n",
       "      <th>50%</th>\n",
       "      <td>4.000000</td>\n",
       "      <td>1.950000</td>\n",
       "      <td>15513.000000</td>\n",
       "    </tr>\n",
       "    <tr>\n",
       "      <th>75%</th>\n",
       "      <td>12.000000</td>\n",
       "      <td>3.750000</td>\n",
       "      <td>16931.000000</td>\n",
       "    </tr>\n",
       "    <tr>\n",
       "      <th>max</th>\n",
       "      <td>80995.000000</td>\n",
       "      <td>38970.000000</td>\n",
       "      <td>18287.000000</td>\n",
       "    </tr>\n",
       "  </tbody>\n",
       "</table>\n",
       "</div>"
      ],
      "text/plain": [
       "            Quantity      UnitPrice     CustomerID\n",
       "count  356728.000000  356728.000000  356728.000000\n",
       "mean       11.198644       3.268255   15543.795284\n",
       "std       264.998044      71.162330    1594.286219\n",
       "min    -80995.000000       0.000000   12346.000000\n",
       "25%         2.000000       1.250000   14191.000000\n",
       "50%         4.000000       1.950000   15513.000000\n",
       "75%        12.000000       3.750000   16931.000000\n",
       "max     80995.000000   38970.000000   18287.000000"
      ]
     },
     "execution_count": 28,
     "metadata": {},
     "output_type": "execute_result"
    }
   ],
   "source": [
    "data.describe()"
   ]
  },
  {
   "cell_type": "code",
   "execution_count": 29,
   "id": "d41c42cb",
   "metadata": {},
   "outputs": [
    {
     "name": "stdout",
     "output_type": "stream",
     "text": [
      "373 days 04:23:00\n"
     ]
    }
   ],
   "source": [
    "# Calculate the range of dates in the dataset\n",
    "date_range = pd.to_datetime(data.InvoiceDate.max()) - pd.to_datetime(data.InvoiceDate.min())\n",
    "print(date_range)"
   ]
  },
  {
   "cell_type": "code",
   "execution_count": 30,
   "id": "5dcaaea2",
   "metadata": {},
   "outputs": [
    {
     "data": {
      "text/plain": [
       "Description     4 PURPLE FLOCK DINNER CANDLES\n",
       "Quantity                               -80995\n",
       "InvoiceDate               2010-12-01 08:26:00\n",
       "UnitPrice                                 0.0\n",
       "CustomerID                            12346.0\n",
       "Country                        United Kingdom\n",
       "dtype: object"
      ]
     },
     "execution_count": 30,
     "metadata": {},
     "output_type": "execute_result"
    }
   ],
   "source": [
    "data.min()\n",
    "# why will quantity be negative?"
   ]
  },
  {
   "cell_type": "code",
   "execution_count": 31,
   "id": "1f1fc178",
   "metadata": {},
   "outputs": [
    {
     "name": "stdout",
     "output_type": "stream",
     "text": [
      "       InvoiceNo StockCode                       Description  Quantity  \\\n",
      "141      C536379         D                          Discount        -1   \n",
      "154      C536383    35004C   SET OF 3 COLOURED  FLYING DUCKS        -1   \n",
      "235      C536391     22556    PLASTERS IN TIN CIRCUS PARADE        -12   \n",
      "236      C536391     21984  PACK OF 12 PINK PAISLEY TISSUES        -24   \n",
      "237      C536391     21983  PACK OF 12 BLUE PAISLEY TISSUES        -24   \n",
      "...          ...       ...                               ...       ...   \n",
      "540449   C581490     23144   ZINC T-LIGHT HOLDER STARS SMALL       -11   \n",
      "541541   C581499         M                            Manual        -1   \n",
      "541715   C581568     21258        VICTORIAN SEWING BOX LARGE        -5   \n",
      "541716   C581569     84978  HANGING HEART JAR T-LIGHT HOLDER        -1   \n",
      "541717   C581569     20979     36 PENCILS TUBE RED RETROSPOT        -5   \n",
      "\n",
      "               InvoiceDate  UnitPrice  CustomerID         Country  \n",
      "141    2010-12-01 09:41:00      27.50     14527.0  United Kingdom  \n",
      "154    2010-12-01 09:49:00       4.65     15311.0  United Kingdom  \n",
      "235    2010-12-01 10:24:00       1.65     17548.0  United Kingdom  \n",
      "236    2010-12-01 10:24:00       0.29     17548.0  United Kingdom  \n",
      "237    2010-12-01 10:24:00       0.29     17548.0  United Kingdom  \n",
      "...                    ...        ...         ...             ...  \n",
      "540449 2011-12-09 09:57:00       0.83     14397.0  United Kingdom  \n",
      "541541 2011-12-09 10:28:00     224.69     15498.0  United Kingdom  \n",
      "541715 2011-12-09 11:57:00      10.95     15311.0  United Kingdom  \n",
      "541716 2011-12-09 11:58:00       1.25     17315.0  United Kingdom  \n",
      "541717 2011-12-09 11:58:00       1.25     17315.0  United Kingdom  \n",
      "\n",
      "[7501 rows x 8 columns]\n"
     ]
    }
   ],
   "source": [
    "# Filter the DataFrame to show rows where Quantity is negative\n",
    "negative_quantity_data = data[data['Quantity'] < 0]\n",
    "print(negative_quantity_data)"
   ]
  },
  {
   "cell_type": "code",
   "execution_count": 32,
   "id": "fe8f12e4",
   "metadata": {},
   "outputs": [
    {
     "data": {
      "text/plain": [
       "Description    ZINC WIRE SWEETHEART LETTER TRAY\n",
       "Quantity                                  80995\n",
       "InvoiceDate                 2011-12-09 12:49:00\n",
       "UnitPrice                               38970.0\n",
       "CustomerID                              18287.0\n",
       "Country                          United Kingdom\n",
       "dtype: object"
      ]
     },
     "execution_count": 32,
     "metadata": {},
     "output_type": "execute_result"
    }
   ],
   "source": [
    "data.max()"
   ]
  },
  {
   "cell_type": "code",
   "execution_count": 33,
   "id": "cbeac6b3",
   "metadata": {},
   "outputs": [
    {
     "name": "stdout",
     "output_type": "stream",
     "text": [
      "       InvoiceNo StockCode                          Description  Quantity  \\\n",
      "0         536365    85123A   WHITE HANGING HEART T-LIGHT HOLDER         6   \n",
      "1         536365     71053                  WHITE METAL LANTERN         6   \n",
      "2         536365    84406B       CREAM CUPID HEARTS COAT HANGER         8   \n",
      "3         536365    84029G  KNITTED UNION FLAG HOT WATER BOTTLE         6   \n",
      "4         536365    84029E       RED WOOLLY HOTTIE WHITE HEART.         6   \n",
      "...          ...       ...                                  ...       ...   \n",
      "541889    581585     22466       FAIRY TALE COTTAGE NIGHT LIGHT        12   \n",
      "541890    581586     22061  LARGE CAKE STAND  HANGING STRAWBERY         8   \n",
      "541891    581586     23275     SET OF 3 HANGING OWLS OLLIE BEAK        24   \n",
      "541892    581586     21217        RED RETROSPOT ROUND CAKE TINS        24   \n",
      "541893    581586     20685                DOORMAT RED RETROSPOT        10   \n",
      "\n",
      "               InvoiceDate  UnitPrice  CustomerID         Country  \n",
      "0      2010-12-01 08:26:00       2.55     17850.0  United Kingdom  \n",
      "1      2010-12-01 08:26:00       3.39     17850.0  United Kingdom  \n",
      "2      2010-12-01 08:26:00       2.75     17850.0  United Kingdom  \n",
      "3      2010-12-01 08:26:00       3.39     17850.0  United Kingdom  \n",
      "4      2010-12-01 08:26:00       3.39     17850.0  United Kingdom  \n",
      "...                    ...        ...         ...             ...  \n",
      "541889 2011-12-09 12:31:00       1.95     15804.0  United Kingdom  \n",
      "541890 2011-12-09 12:49:00       2.95     13113.0  United Kingdom  \n",
      "541891 2011-12-09 12:49:00       1.25     13113.0  United Kingdom  \n",
      "541892 2011-12-09 12:49:00       8.95     13113.0  United Kingdom  \n",
      "541893 2011-12-09 12:49:00       7.08     13113.0  United Kingdom  \n",
      "\n",
      "[349227 rows x 8 columns]\n"
     ]
    }
   ],
   "source": [
    "# Filter out returns (transactions with negative quantity)\n",
    "data = data[data['Quantity'] >= 0]\n",
    "print(data)"
   ]
  },
  {
   "cell_type": "code",
   "execution_count": 34,
   "id": "82ac9fd4",
   "metadata": {},
   "outputs": [
    {
     "data": {
      "text/plain": [
       "count    349227.000000\n",
       "mean         12.181295\n",
       "std         191.797470\n",
       "min           1.000000\n",
       "25%           2.000000\n",
       "50%           4.000000\n",
       "75%          12.000000\n",
       "max       80995.000000\n",
       "Name: Quantity, dtype: float64"
      ]
     },
     "execution_count": 34,
     "metadata": {},
     "output_type": "execute_result"
    }
   ],
   "source": [
    "# Describe the Quantity column\n",
    "data.Quantity.describe()"
   ]
  },
  {
   "cell_type": "code",
   "execution_count": 35,
   "id": "199c9c04",
   "metadata": {},
   "outputs": [
    {
     "name": "stdout",
     "output_type": "stream",
     "text": [
      "  InvoiceNo StockCode                          Description  Quantity  \\\n",
      "0    536365    85123A   WHITE HANGING HEART T-LIGHT HOLDER         6   \n",
      "1    536365     71053                  WHITE METAL LANTERN         6   \n",
      "2    536365    84406B       CREAM CUPID HEARTS COAT HANGER         8   \n",
      "3    536365    84029G  KNITTED UNION FLAG HOT WATER BOTTLE         6   \n",
      "4    536365    84029E       RED WOOLLY HOTTIE WHITE HEART.         6   \n",
      "\n",
      "          InvoiceDate  UnitPrice  CustomerID         Country  Sales  \n",
      "0 2010-12-01 08:26:00       2.55     17850.0  United Kingdom  15.30  \n",
      "1 2010-12-01 08:26:00       3.39     17850.0  United Kingdom  20.34  \n",
      "2 2010-12-01 08:26:00       2.75     17850.0  United Kingdom  22.00  \n",
      "3 2010-12-01 08:26:00       3.39     17850.0  United Kingdom  20.34  \n",
      "4 2010-12-01 08:26:00       3.39     17850.0  United Kingdom  20.34  \n"
     ]
    }
   ],
   "source": [
    "# Create a new column 'Sales' by multiplying 'Quantity' and 'UnitPrice'\n",
    "data.loc[:, 'Sales'] = data['Quantity'] * data['UnitPrice']\n",
    "print(data.head())"
   ]
  },
  {
   "cell_type": "code",
   "execution_count": 36,
   "id": "0ee09825",
   "metadata": {},
   "outputs": [],
   "source": [
    "# Convert 'InvoiceDate' to datetime format\n",
    "data['InvoiceDate'] = pd.to_datetime(data['InvoiceDate'], format='%m/%d/%Y %H:%M')"
   ]
  },
  {
   "cell_type": "code",
   "execution_count": 37,
   "id": "573e2a52",
   "metadata": {},
   "outputs": [],
   "source": [
    "# Extract additional date features\n",
    "data.insert(4, 'Day', data['InvoiceDate'].dt.day)\n",
    "data.insert(5, 'Month', data['InvoiceDate'].dt.month)\n",
    "data.insert(6, 'Year', data['InvoiceDate'].dt.year)\n",
    "data.insert(7, 'WeekDay', data['InvoiceDate'].dt.weekday)\n",
    "data.insert(8, 'Hour', data['InvoiceDate'].dt.hour)\n",
    "data.insert(9, 'Minute', data['InvoiceDate'].dt.minute)\n",
    "data.insert(10, 'Date', data['InvoiceDate'].dt.date)"
   ]
  },
  {
   "cell_type": "code",
   "execution_count": 38,
   "id": "fdf4ae35",
   "metadata": {},
   "outputs": [
    {
     "data": {
      "text/html": [
       "<div>\n",
       "<style scoped>\n",
       "    .dataframe tbody tr th:only-of-type {\n",
       "        vertical-align: middle;\n",
       "    }\n",
       "\n",
       "    .dataframe tbody tr th {\n",
       "        vertical-align: top;\n",
       "    }\n",
       "\n",
       "    .dataframe thead th {\n",
       "        text-align: right;\n",
       "    }\n",
       "</style>\n",
       "<table border=\"1\" class=\"dataframe\">\n",
       "  <thead>\n",
       "    <tr style=\"text-align: right;\">\n",
       "      <th></th>\n",
       "      <th>InvoiceNo</th>\n",
       "      <th>StockCode</th>\n",
       "      <th>Description</th>\n",
       "      <th>Quantity</th>\n",
       "      <th>Day</th>\n",
       "      <th>Month</th>\n",
       "      <th>Year</th>\n",
       "      <th>WeekDay</th>\n",
       "      <th>Hour</th>\n",
       "      <th>Minute</th>\n",
       "      <th>Date</th>\n",
       "      <th>InvoiceDate</th>\n",
       "      <th>UnitPrice</th>\n",
       "      <th>CustomerID</th>\n",
       "      <th>Country</th>\n",
       "      <th>Sales</th>\n",
       "    </tr>\n",
       "  </thead>\n",
       "  <tbody>\n",
       "    <tr>\n",
       "      <th>0</th>\n",
       "      <td>536365</td>\n",
       "      <td>85123A</td>\n",
       "      <td>WHITE HANGING HEART T-LIGHT HOLDER</td>\n",
       "      <td>6</td>\n",
       "      <td>1</td>\n",
       "      <td>12</td>\n",
       "      <td>2010</td>\n",
       "      <td>2</td>\n",
       "      <td>8</td>\n",
       "      <td>26</td>\n",
       "      <td>2010-12-01</td>\n",
       "      <td>2010-12-01 08:26:00</td>\n",
       "      <td>2.55</td>\n",
       "      <td>17850.0</td>\n",
       "      <td>United Kingdom</td>\n",
       "      <td>15.30</td>\n",
       "    </tr>\n",
       "    <tr>\n",
       "      <th>1</th>\n",
       "      <td>536365</td>\n",
       "      <td>71053</td>\n",
       "      <td>WHITE METAL LANTERN</td>\n",
       "      <td>6</td>\n",
       "      <td>1</td>\n",
       "      <td>12</td>\n",
       "      <td>2010</td>\n",
       "      <td>2</td>\n",
       "      <td>8</td>\n",
       "      <td>26</td>\n",
       "      <td>2010-12-01</td>\n",
       "      <td>2010-12-01 08:26:00</td>\n",
       "      <td>3.39</td>\n",
       "      <td>17850.0</td>\n",
       "      <td>United Kingdom</td>\n",
       "      <td>20.34</td>\n",
       "    </tr>\n",
       "    <tr>\n",
       "      <th>2</th>\n",
       "      <td>536365</td>\n",
       "      <td>84406B</td>\n",
       "      <td>CREAM CUPID HEARTS COAT HANGER</td>\n",
       "      <td>8</td>\n",
       "      <td>1</td>\n",
       "      <td>12</td>\n",
       "      <td>2010</td>\n",
       "      <td>2</td>\n",
       "      <td>8</td>\n",
       "      <td>26</td>\n",
       "      <td>2010-12-01</td>\n",
       "      <td>2010-12-01 08:26:00</td>\n",
       "      <td>2.75</td>\n",
       "      <td>17850.0</td>\n",
       "      <td>United Kingdom</td>\n",
       "      <td>22.00</td>\n",
       "    </tr>\n",
       "    <tr>\n",
       "      <th>3</th>\n",
       "      <td>536365</td>\n",
       "      <td>84029G</td>\n",
       "      <td>KNITTED UNION FLAG HOT WATER BOTTLE</td>\n",
       "      <td>6</td>\n",
       "      <td>1</td>\n",
       "      <td>12</td>\n",
       "      <td>2010</td>\n",
       "      <td>2</td>\n",
       "      <td>8</td>\n",
       "      <td>26</td>\n",
       "      <td>2010-12-01</td>\n",
       "      <td>2010-12-01 08:26:00</td>\n",
       "      <td>3.39</td>\n",
       "      <td>17850.0</td>\n",
       "      <td>United Kingdom</td>\n",
       "      <td>20.34</td>\n",
       "    </tr>\n",
       "    <tr>\n",
       "      <th>4</th>\n",
       "      <td>536365</td>\n",
       "      <td>84029E</td>\n",
       "      <td>RED WOOLLY HOTTIE WHITE HEART.</td>\n",
       "      <td>6</td>\n",
       "      <td>1</td>\n",
       "      <td>12</td>\n",
       "      <td>2010</td>\n",
       "      <td>2</td>\n",
       "      <td>8</td>\n",
       "      <td>26</td>\n",
       "      <td>2010-12-01</td>\n",
       "      <td>2010-12-01 08:26:00</td>\n",
       "      <td>3.39</td>\n",
       "      <td>17850.0</td>\n",
       "      <td>United Kingdom</td>\n",
       "      <td>20.34</td>\n",
       "    </tr>\n",
       "  </tbody>\n",
       "</table>\n",
       "</div>"
      ],
      "text/plain": [
       "  InvoiceNo StockCode                          Description  Quantity  Day  \\\n",
       "0    536365    85123A   WHITE HANGING HEART T-LIGHT HOLDER         6    1   \n",
       "1    536365     71053                  WHITE METAL LANTERN         6    1   \n",
       "2    536365    84406B       CREAM CUPID HEARTS COAT HANGER         8    1   \n",
       "3    536365    84029G  KNITTED UNION FLAG HOT WATER BOTTLE         6    1   \n",
       "4    536365    84029E       RED WOOLLY HOTTIE WHITE HEART.         6    1   \n",
       "\n",
       "   Month  Year  WeekDay  Hour  Minute        Date         InvoiceDate  \\\n",
       "0     12  2010        2     8      26  2010-12-01 2010-12-01 08:26:00   \n",
       "1     12  2010        2     8      26  2010-12-01 2010-12-01 08:26:00   \n",
       "2     12  2010        2     8      26  2010-12-01 2010-12-01 08:26:00   \n",
       "3     12  2010        2     8      26  2010-12-01 2010-12-01 08:26:00   \n",
       "4     12  2010        2     8      26  2010-12-01 2010-12-01 08:26:00   \n",
       "\n",
       "   UnitPrice  CustomerID         Country  Sales  \n",
       "0       2.55     17850.0  United Kingdom  15.30  \n",
       "1       3.39     17850.0  United Kingdom  20.34  \n",
       "2       2.75     17850.0  United Kingdom  22.00  \n",
       "3       3.39     17850.0  United Kingdom  20.34  \n",
       "4       3.39     17850.0  United Kingdom  20.34  "
      ]
     },
     "execution_count": 38,
     "metadata": {},
     "output_type": "execute_result"
    }
   ],
   "source": [
    "data.head()"
   ]
  },
  {
   "cell_type": "code",
   "execution_count": 39,
   "id": "b1d476c4",
   "metadata": {},
   "outputs": [
    {
     "data": {
      "text/plain": [
       "<seaborn.axisgrid.FacetGrid at 0x23e618dae80>"
      ]
     },
     "execution_count": 39,
     "metadata": {},
     "output_type": "execute_result"
    },
    {
     "data": {
      "image/png": "[encoded data removed]",
      "text/plain": [
       "<Figure size 1209.12x827 with 1 Axes>"
      ]
     },
     "metadata": {},
     "output_type": "display_data"
    }
   ],
   "source": [
    "# Define a custom color palette\n",
    "custom_palette = [\"#1f77b4\", \"#ff7f0e\", \"#2ca02c\", \"#d62728\", \"#9467bd\", \"#8c564b\", \"#e377c2\", \"#7f7f7f\", \"#bcbd22\", \"#17becf\"]\n",
    "\n",
    "# Plot the count of transactions by month\n",
    "sns.catplot(data=data, x='Month', kind='count', palette=custom_palette, height=8.27, aspect=11/8)"
   ]
  },
  {
   "cell_type": "code",
   "execution_count": 40,
   "id": "0d2da107",
   "metadata": {},
   "outputs": [
    {
     "data": {
      "text/plain": [
       "<seaborn.axisgrid.FacetGrid at 0x23e618daaf0>"
      ]
     },
     "execution_count": 40,
     "metadata": {},
     "output_type": "execute_result"
    },
    {
     "data": {
      "image/png": "[encoded data removed]",
      "text/plain": [
       "<Figure size 1209.12x827 with 1 Axes>"
      ]
     },
     "metadata": {},
     "output_type": "display_data"
    }
   ],
   "source": [
    "# Plot sales by month\n",
    "sns.catplot(data=data, x='Month', y='Sales', kind='bar', palette=custom_palette, height=8.27, aspect=11/8)"
   ]
  },
  {
   "cell_type": "code",
   "execution_count": 41,
   "id": "2c57522a",
   "metadata": {},
   "outputs": [
    {
     "data": {
      "text/plain": [
       "Text(0.5, 1.0, 'Sales By WeekDay ')"
      ]
     },
     "execution_count": 41,
     "metadata": {},
     "output_type": "execute_result"
    },
    {
     "data": {
      "image/png": "[encoded data removed]",
      "text/plain": [
       "<Figure size 1221.35x827 with 1 Axes>"
      ]
     },
     "metadata": {},
     "output_type": "display_data"
    }
   ],
   "source": [
    "sns.catplot(data=data, x= 'WeekDay', y='Sales', kind = 'bar', palette=custom_palette, height=8.27, aspect=11/8)\n",
    "plt.title('Sales By WeekDay ')\n",
    "# Monday = 0 to Sunday = 6"
   ]
  },
  {
   "cell_type": "code",
   "execution_count": 42,
   "id": "3bb77f68",
   "metadata": {},
   "outputs": [
    {
     "data": {
      "text/plain": [
       "<seaborn.axisgrid.FacetGrid at 0x23e5dced2e0>"
      ]
     },
     "execution_count": 42,
     "metadata": {},
     "output_type": "execute_result"
    },
    {
     "data": {
      "image/png": "[encoded data removed]",
      "text/plain": [
       "<Figure size 1209.25x827 with 1 Axes>"
      ]
     },
     "metadata": {},
     "output_type": "display_data"
    }
   ],
   "source": [
    "# Plot the count of transactions by hour\n",
    "sns.catplot(data=data, x='Hour', kind='count', palette=custom_palette, height=8.27, aspect=11/8)"
   ]
  },
  {
   "cell_type": "code",
   "execution_count": 43,
   "id": "83d07c8c",
   "metadata": {},
   "outputs": [
    {
     "data": {
      "text/html": [
       "<div>\n",
       "<style scoped>\n",
       "    .dataframe tbody tr th:only-of-type {\n",
       "        vertical-align: middle;\n",
       "    }\n",
       "\n",
       "    .dataframe tbody tr th {\n",
       "        vertical-align: top;\n",
       "    }\n",
       "\n",
       "    .dataframe thead th {\n",
       "        text-align: right;\n",
       "    }\n",
       "</style>\n",
       "<table border=\"1\" class=\"dataframe\">\n",
       "  <thead>\n",
       "    <tr style=\"text-align: right;\">\n",
       "      <th></th>\n",
       "      <th>Quantity</th>\n",
       "      <th>Day</th>\n",
       "      <th>Month</th>\n",
       "      <th>Year</th>\n",
       "      <th>Hour</th>\n",
       "      <th>Minute</th>\n",
       "      <th>UnitPrice</th>\n",
       "      <th>CustomerID</th>\n",
       "      <th>Sales</th>\n",
       "    </tr>\n",
       "    <tr>\n",
       "      <th>WeekDay</th>\n",
       "      <th></th>\n",
       "      <th></th>\n",
       "      <th></th>\n",
       "      <th></th>\n",
       "      <th></th>\n",
       "      <th></th>\n",
       "      <th></th>\n",
       "      <th></th>\n",
       "      <th></th>\n",
       "    </tr>\n",
       "  </thead>\n",
       "  <tbody>\n",
       "    <tr>\n",
       "      <th>0</th>\n",
       "      <td>631291</td>\n",
       "      <td>871756</td>\n",
       "      <td>444523</td>\n",
       "      <td>114711713</td>\n",
       "      <td>731300</td>\n",
       "      <td>1739403</td>\n",
       "      <td>181657.971</td>\n",
       "      <td>8.849684e+08</td>\n",
       "      <td>1126022.151</td>\n",
       "    </tr>\n",
       "    <tr>\n",
       "      <th>1</th>\n",
       "      <td>842455</td>\n",
       "      <td>886874</td>\n",
       "      <td>433267</td>\n",
       "      <td>117777472</td>\n",
       "      <td>736235</td>\n",
       "      <td>1764136</td>\n",
       "      <td>175586.201</td>\n",
       "      <td>9.094877e+08</td>\n",
       "      <td>1415788.971</td>\n",
       "    </tr>\n",
       "    <tr>\n",
       "      <th>2</th>\n",
       "      <td>780894</td>\n",
       "      <td>910441</td>\n",
       "      <td>453700</td>\n",
       "      <td>120882350</td>\n",
       "      <td>759843</td>\n",
       "      <td>1847840</td>\n",
       "      <td>176375.210</td>\n",
       "      <td>9.363256e+08</td>\n",
       "      <td>1276826.580</td>\n",
       "    </tr>\n",
       "    <tr>\n",
       "      <th>3</th>\n",
       "      <td>916840</td>\n",
       "      <td>1020566</td>\n",
       "      <td>527970</td>\n",
       "      <td>139182046</td>\n",
       "      <td>924529</td>\n",
       "      <td>2090947</td>\n",
       "      <td>209151.150</td>\n",
       "      <td>1.077830e+09</td>\n",
       "      <td>1563033.230</td>\n",
       "    </tr>\n",
       "    <tr>\n",
       "      <th>4</th>\n",
       "      <td>676490</td>\n",
       "      <td>645486</td>\n",
       "      <td>352103</td>\n",
       "      <td>92889525</td>\n",
       "      <td>567105</td>\n",
       "      <td>1405767</td>\n",
       "      <td>135308.561</td>\n",
       "      <td>7.166091e+08</td>\n",
       "      <td>1215510.031</td>\n",
       "    </tr>\n",
       "    <tr>\n",
       "      <th>6</th>\n",
       "      <td>406067</td>\n",
       "      <td>913092</td>\n",
       "      <td>454842</td>\n",
       "      <td>116828932</td>\n",
       "      <td>752387</td>\n",
       "      <td>1731290</td>\n",
       "      <td>159866.771</td>\n",
       "      <td>9.046767e+08</td>\n",
       "      <td>687843.681</td>\n",
       "    </tr>\n",
       "  </tbody>\n",
       "</table>\n",
       "</div>"
      ],
      "text/plain": [
       "         Quantity      Day   Month       Year    Hour   Minute   UnitPrice  \\\n",
       "WeekDay                                                                      \n",
       "0          631291   871756  444523  114711713  731300  1739403  181657.971   \n",
       "1          842455   886874  433267  117777472  736235  1764136  175586.201   \n",
       "2          780894   910441  453700  120882350  759843  1847840  176375.210   \n",
       "3          916840  1020566  527970  139182046  924529  2090947  209151.150   \n",
       "4          676490   645486  352103   92889525  567105  1405767  135308.561   \n",
       "6          406067   913092  454842  116828932  752387  1731290  159866.771   \n",
       "\n",
       "           CustomerID        Sales  \n",
       "WeekDay                             \n",
       "0        8.849684e+08  1126022.151  \n",
       "1        9.094877e+08  1415788.971  \n",
       "2        9.363256e+08  1276826.580  \n",
       "3        1.077830e+09  1563033.230  \n",
       "4        7.166091e+08  1215510.031  \n",
       "6        9.046767e+08   687843.681  "
      ]
     },
     "execution_count": 43,
     "metadata": {},
     "output_type": "execute_result"
    }
   ],
   "source": [
    "# Calculate the sum of sales grouped by weekday\n",
    "sales_by_weekday = data.groupby(['WeekDay']).sum()\n",
    "sales_by_weekday "
   ]
  },
  {
   "cell_type": "code",
   "execution_count": 44,
   "id": "5dd7941d",
   "metadata": {},
   "outputs": [
    {
     "data": {
      "text/plain": [
       "85123A    1936\n",
       "85099B    1461\n",
       "22423     1417\n",
       "84879     1320\n",
       "47566     1301\n",
       "Name: StockCode, dtype: int64"
      ]
     },
     "execution_count": 44,
     "metadata": {},
     "output_type": "execute_result"
    }
   ],
   "source": [
    "# Display the counts of each stock code, showing the most frequent ones\n",
    "stock_code_counts = data['StockCode'].value_counts().head()\n",
    "stock_code_counts "
   ]
  },
  {
   "cell_type": "code",
   "execution_count": 45,
   "id": "cfd1112b",
   "metadata": {},
   "outputs": [
    {
     "data": {
      "text/plain": [
       "17841.0    7676\n",
       "14096.0    5111\n",
       "12748.0    4413\n",
       "14606.0    2677\n",
       "15311.0    2366\n",
       "13089.0    1814\n",
       "13263.0    1667\n",
       "14298.0    1637\n",
       "15039.0    1477\n",
       "18118.0    1263\n",
       "Name: CustomerID, dtype: int64"
      ]
     },
     "execution_count": 45,
     "metadata": {},
     "output_type": "execute_result"
    }
   ],
   "source": [
    "data['CustomerID'].value_counts().head(10)"
   ]
  },
  {
   "cell_type": "code",
   "execution_count": 46,
   "id": "57a0debf",
   "metadata": {},
   "outputs": [
    {
     "data": {
      "text/plain": [
       "85123A    1936\n",
       "85099B    1461\n",
       "22423     1417\n",
       "84879     1320\n",
       "47566     1301\n",
       "Name: StockCode, dtype: int64"
      ]
     },
     "execution_count": 46,
     "metadata": {},
     "output_type": "execute_result"
    }
   ],
   "source": [
    "data['StockCode'].value_counts().head()"
   ]
  },
  {
   "cell_type": "code",
   "execution_count": 47,
   "id": "cdb6b4d3",
   "metadata": {},
   "outputs": [
    {
     "data": {
      "text/plain": [
       "WHITE HANGING HEART T-LIGHT HOLDER    1929\n",
       "JUMBO BAG RED RETROSPOT               1461\n",
       "REGENCY CAKESTAND 3 TIER              1417\n",
       "ASSORTED COLOUR BIRD ORNAMENT         1320\n",
       "PARTY BUNTING                         1301\n",
       "LUNCH BAG RED RETROSPOT               1135\n",
       "LUNCH BAG  BLACK SKULL.               1022\n",
       "SET OF 3 CAKE TINS PANTRY DESIGN      1013\n",
       "PAPER CHAIN KIT 50'S CHRISTMAS         967\n",
       "HEART OF WICKER SMALL                  946\n",
       "NATURAL SLATE HEART CHALKBOARD         943\n",
       "SPOTTY BUNTING                         919\n",
       "LUNCH BAG CARS BLUE                    893\n",
       "REX CASH+CARRY JUMBO SHOPPER           888\n",
       "LUNCH BAG SPACEBOY DESIGN              878\n",
       "Name: Description, dtype: int64"
      ]
     },
     "execution_count": 47,
     "metadata": {},
     "output_type": "execute_result"
    }
   ],
   "source": [
    "d_count =  data.Description.value_counts().sort_values(ascending=False).iloc[0:15]\n",
    "d_count"
   ]
  },
  {
   "cell_type": "code",
   "execution_count": 48,
   "id": "8108cd0f",
   "metadata": {},
   "outputs": [
    {
     "data": {
      "text/plain": [
       "Text(0.5, 1.0, 'Top 10 Products')"
      ]
     },
     "execution_count": 48,
     "metadata": {},
     "output_type": "execute_result"
    },
    {
     "data": {
      "image/png": "[encoded data removed]",
      "text/plain": [
       "<Figure size 1500x800 with 1 Axes>"
      ]
     },
     "metadata": {},
     "output_type": "display_data"
    }
   ],
   "source": [
    "# Display the top 15 most frequent product descriptions\n",
    "top_products = data['Description'].value_counts().sort_values(ascending=False).iloc[0:15]\n",
    "plt.figure(figsize=(15, 8))\n",
    "sns.barplot(x=top_products.index, y=top_products.values)\n",
    "plt.xticks(rotation=90)\n",
    "plt.title('Top 10 Products')"
   ]
  },
  {
   "cell_type": "markdown",
   "id": "e08a6ea4",
   "metadata": {},
   "source": [
    "###  Feature Selection (Using Recency, Frequency, and Monetary Value)"
   ]
  },
  {
   "cell_type": "code",
   "execution_count": 50,
   "id": "82974e9a",
   "metadata": {},
   "outputs": [],
   "source": [
    " # Calculate RFM Metrics\n",
    "# Calculate Recency (R)\n",
    "now = pd.to_datetime('2011-12-09')  # Current date\n",
    "new_df = data.groupby(by='CustomerID', as_index=False)['InvoiceDate'].max()\n",
    "new_df.columns = ['CustomerID', 'LastPurchaseDate']\n",
    "new_df['Recency'] = (now - new_df['LastPurchaseDate']).dt.days\n",
    "new_df.drop('LastPurchaseDate', axis=1, inplace=True)\n",
    "\n",
    "# Calculate Frequency (F)\n",
    "new_df2 = data.groupby(by='CustomerID', as_index=False)['InvoiceNo'].count()\n",
    "new_df2.columns = ['CustomerID', 'Frequency']\n",
    "\n",
    "# Calculate Monetary Value (M)\n",
    "new_df3 = data.groupby(by='CustomerID', as_index=False)['Sales'].sum()\n",
    "new_df3.columns = ['CustomerID', 'Monetary']"
   ]
  },
  {
   "cell_type": "code",
   "execution_count": 51,
   "id": "e946c8b1",
   "metadata": {},
   "outputs": [],
   "source": [
    "# Merge RFM Metrics\n",
    "rfm_df = pd.merge(new_df, new_df2, on='CustomerID')\n",
    "rfm_df = pd.merge(rfm_df, new_df3, on='CustomerID')\n",
    "rfm_df.set_index('CustomerID', inplace=True)"
   ]
  },
  {
   "cell_type": "code",
   "execution_count": 52,
   "id": "e2c9e370",
   "metadata": {},
   "outputs": [
    {
     "data": {
      "text/html": [
       "<div>\n",
       "<style scoped>\n",
       "    .dataframe tbody tr th:only-of-type {\n",
       "        vertical-align: middle;\n",
       "    }\n",
       "\n",
       "    .dataframe tbody tr th {\n",
       "        vertical-align: top;\n",
       "    }\n",
       "\n",
       "    .dataframe thead th {\n",
       "        text-align: right;\n",
       "    }\n",
       "</style>\n",
       "<table border=\"1\" class=\"dataframe\">\n",
       "  <thead>\n",
       "    <tr style=\"text-align: right;\">\n",
       "      <th></th>\n",
       "      <th>Recency</th>\n",
       "      <th>Frequency</th>\n",
       "      <th>Monetary</th>\n",
       "    </tr>\n",
       "    <tr>\n",
       "      <th>CustomerID</th>\n",
       "      <th></th>\n",
       "      <th></th>\n",
       "      <th></th>\n",
       "    </tr>\n",
       "  </thead>\n",
       "  <tbody>\n",
       "    <tr>\n",
       "      <th>12346.0</th>\n",
       "      <td>324</td>\n",
       "      <td>1</td>\n",
       "      <td>77183.60</td>\n",
       "    </tr>\n",
       "    <tr>\n",
       "      <th>12747.0</th>\n",
       "      <td>1</td>\n",
       "      <td>103</td>\n",
       "      <td>4196.01</td>\n",
       "    </tr>\n",
       "    <tr>\n",
       "      <th>12748.0</th>\n",
       "      <td>-1</td>\n",
       "      <td>4413</td>\n",
       "      <td>33053.19</td>\n",
       "    </tr>\n",
       "    <tr>\n",
       "      <th>12749.0</th>\n",
       "      <td>2</td>\n",
       "      <td>199</td>\n",
       "      <td>4090.88</td>\n",
       "    </tr>\n",
       "    <tr>\n",
       "      <th>12820.0</th>\n",
       "      <td>2</td>\n",
       "      <td>59</td>\n",
       "      <td>942.34</td>\n",
       "    </tr>\n",
       "    <tr>\n",
       "      <th>12821.0</th>\n",
       "      <td>213</td>\n",
       "      <td>6</td>\n",
       "      <td>92.72</td>\n",
       "    </tr>\n",
       "    <tr>\n",
       "      <th>12822.0</th>\n",
       "      <td>69</td>\n",
       "      <td>46</td>\n",
       "      <td>948.88</td>\n",
       "    </tr>\n",
       "    <tr>\n",
       "      <th>12823.0</th>\n",
       "      <td>73</td>\n",
       "      <td>5</td>\n",
       "      <td>1759.50</td>\n",
       "    </tr>\n",
       "    <tr>\n",
       "      <th>12824.0</th>\n",
       "      <td>58</td>\n",
       "      <td>25</td>\n",
       "      <td>397.12</td>\n",
       "    </tr>\n",
       "    <tr>\n",
       "      <th>12826.0</th>\n",
       "      <td>1</td>\n",
       "      <td>91</td>\n",
       "      <td>1474.72</td>\n",
       "    </tr>\n",
       "  </tbody>\n",
       "</table>\n",
       "</div>"
      ],
      "text/plain": [
       "            Recency  Frequency  Monetary\n",
       "CustomerID                              \n",
       "12346.0         324          1  77183.60\n",
       "12747.0           1        103   4196.01\n",
       "12748.0          -1       4413  33053.19\n",
       "12749.0           2        199   4090.88\n",
       "12820.0           2         59    942.34\n",
       "12821.0         213          6     92.72\n",
       "12822.0          69         46    948.88\n",
       "12823.0          73          5   1759.50\n",
       "12824.0          58         25    397.12\n",
       "12826.0           1         91   1474.72"
      ]
     },
     "execution_count": 52,
     "metadata": {},
     "output_type": "execute_result"
    }
   ],
   "source": [
    "# Merge RFM Metrics\n",
    "temp = new_df.merge(new_df2, on='CustomerID')\n",
    "rfm_df = temp.merge(new_df3, on='CustomerID')\n",
    "rfm_df.set_index('CustomerID', inplace=True)\n",
    "rfm_df.head(10)"
   ]
  },
  {
   "cell_type": "code",
   "execution_count": 53,
   "id": "717a204d",
   "metadata": {},
   "outputs": [],
   "source": [
    "# Assign RFM Quartiles\n",
    "rfm_df['R_quartile'] = pd.qcut(rfm_df['Recency'], 4, labels=['1', '2', '3', '4'])\n",
    "rfm_df['F_quartile'] = pd.qcut(rfm_df['Frequency'], 4, labels=['4', '3', '2', '1'])\n",
    "rfm_df['M_quartile'] = pd.qcut(rfm_df['Monetary'], 4, labels=['4', '3', '2', '1'])"
   ]
  },
  {
   "cell_type": "code",
   "execution_count": 54,
   "id": "47b50a41",
   "metadata": {},
   "outputs": [
    {
     "data": {
      "text/plain": [
       "CustomerID\n",
       "12346.0    441\n",
       "12747.0    111\n",
       "12748.0    111\n",
       "12749.0    111\n",
       "12820.0    122\n",
       "          ... \n",
       "18280.0    444\n",
       "18281.0    444\n",
       "18282.0    144\n",
       "18283.0    111\n",
       "18287.0    221\n",
       "Name: RFM_Score, Length: 3921, dtype: object"
      ]
     },
     "execution_count": 54,
     "metadata": {},
     "output_type": "execute_result"
    }
   ],
   "source": [
    "# Calculate RFM Score\n",
    "rfm_df['RFM_Score'] = rfm_df['R_quartile'].astype(str) + rfm_df['F_quartile'].astype(str) + rfm_df['M_quartile'].astype(str)\n",
    "rfm_df['RFM_Score'] "
   ]
  },
  {
   "cell_type": "code",
   "execution_count": 55,
   "id": "12ba80ec",
   "metadata": {},
   "outputs": [
    {
     "name": "stdout",
     "output_type": "stream",
     "text": [
      "Best Customers:\n",
      "            Recency  Frequency  Monetary R_quartile F_quartile M_quartile  \\\n",
      "CustomerID                                                                  \n",
      "12747.0           1        103   4196.01          1          1          1   \n",
      "12748.0          -1       4413  33053.19          1          1          1   \n",
      "12749.0           2        199   4090.88          1          1          1   \n",
      "12839.0           1        314   5591.42          1          1          1   \n",
      "12841.0           3        414   3991.58          1          1          1   \n",
      "\n",
      "           RFM_Score  \n",
      "CustomerID            \n",
      "12747.0          111  \n",
      "12748.0          111  \n",
      "12749.0          111  \n",
      "12839.0          111  \n",
      "12841.0          111  \n"
     ]
    }
   ],
   "source": [
    "# Explore Segments\n",
    "# Customers with RFM Score 111 are considered as the best customers\n",
    "best_customers = rfm_df[rfm_df['RFM_Score'] == '111'].head()\n",
    "print(\"Best Customers:\")\n",
    "print(best_customers)"
   ]
  },
  {
   "cell_type": "code",
   "execution_count": 56,
   "id": "63190205",
   "metadata": {},
   "outputs": [
    {
     "name": "stdout",
     "output_type": "stream",
     "text": [
      "Customers with Lowest Frequency:\n",
      "            Recency  Frequency  Monetary R_quartile F_quartile M_quartile  \\\n",
      "CustomerID                                                                  \n",
      "12747.0           1        103   4196.01          1          1          1   \n",
      "12748.0          -1       4413  33053.19          1          1          1   \n",
      "12749.0           2        199   4090.88          1          1          1   \n",
      "12836.0          58        174   2610.36          3          1          1   \n",
      "12838.0          32        120    671.95          2          1          2   \n",
      "\n",
      "           RFM_Score  \n",
      "CustomerID            \n",
      "12747.0          111  \n",
      "12748.0          111  \n",
      "12749.0          111  \n",
      "12836.0          311  \n",
      "12838.0          212  \n",
      "Customers with Lowest Monetary Value:\n",
      "            Recency  Frequency  Monetary R_quartile F_quartile M_quartile  \\\n",
      "CustomerID                                                                  \n",
      "12346.0         324          1  77183.60          4          4          1   \n",
      "12747.0           1        103   4196.01          1          1          1   \n",
      "12748.0          -1       4413  33053.19          1          1          1   \n",
      "12749.0           2        199   4090.88          1          1          1   \n",
      "12823.0          73          5   1759.50          3          4          1   \n",
      "\n",
      "           RFM_Score  \n",
      "CustomerID            \n",
      "12346.0          441  \n",
      "12747.0          111  \n",
      "12748.0          111  \n",
      "12749.0          111  \n",
      "12823.0          341  \n"
     ]
    }
   ],
   "source": [
    "# Customers with the lowest Frequency and Monetary Value\n",
    "low_frequency_customers = rfm_df[rfm_df['F_quartile'] == '1'].head()\n",
    "low_monetary_customers = rfm_df[rfm_df['M_quartile'] == '1'].head()\n",
    "print(\"Customers with Lowest Frequency:\")\n",
    "print(low_frequency_customers)\n",
    "print(\"Customers with Lowest Monetary Value:\")\n",
    "print(low_monetary_customers)"
   ]
  },
  {
   "cell_type": "code",
   "execution_count": 57,
   "id": "8645ec78",
   "metadata": {},
   "outputs": [
    {
     "data": {
      "text/html": [
       "<div>\n",
       "<style scoped>\n",
       "    .dataframe tbody tr th:only-of-type {\n",
       "        vertical-align: middle;\n",
       "    }\n",
       "\n",
       "    .dataframe tbody tr th {\n",
       "        vertical-align: top;\n",
       "    }\n",
       "\n",
       "    .dataframe thead th {\n",
       "        text-align: right;\n",
       "    }\n",
       "</style>\n",
       "<table border=\"1\" class=\"dataframe\">\n",
       "  <thead>\n",
       "    <tr style=\"text-align: right;\">\n",
       "      <th></th>\n",
       "      <th>Recency</th>\n",
       "      <th>Frequency</th>\n",
       "      <th>Monetary</th>\n",
       "    </tr>\n",
       "    <tr>\n",
       "      <th>CustomerID</th>\n",
       "      <th></th>\n",
       "      <th></th>\n",
       "      <th></th>\n",
       "    </tr>\n",
       "  </thead>\n",
       "  <tbody>\n",
       "    <tr>\n",
       "      <th>12346.0</th>\n",
       "      <td>324</td>\n",
       "      <td>1</td>\n",
       "      <td>77183.60</td>\n",
       "    </tr>\n",
       "    <tr>\n",
       "      <th>12747.0</th>\n",
       "      <td>1</td>\n",
       "      <td>103</td>\n",
       "      <td>4196.01</td>\n",
       "    </tr>\n",
       "    <tr>\n",
       "      <th>12748.0</th>\n",
       "      <td>-1</td>\n",
       "      <td>4413</td>\n",
       "      <td>33053.19</td>\n",
       "    </tr>\n",
       "    <tr>\n",
       "      <th>12749.0</th>\n",
       "      <td>2</td>\n",
       "      <td>199</td>\n",
       "      <td>4090.88</td>\n",
       "    </tr>\n",
       "    <tr>\n",
       "      <th>12820.0</th>\n",
       "      <td>2</td>\n",
       "      <td>59</td>\n",
       "      <td>942.34</td>\n",
       "    </tr>\n",
       "  </tbody>\n",
       "</table>\n",
       "</div>"
      ],
      "text/plain": [
       "            Recency  Frequency  Monetary\n",
       "CustomerID                              \n",
       "12346.0         324          1  77183.60\n",
       "12747.0           1        103   4196.01\n",
       "12748.0          -1       4413  33053.19\n",
       "12749.0           2        199   4090.88\n",
       "12820.0           2         59    942.34"
      ]
     },
     "execution_count": 57,
     "metadata": {},
     "output_type": "execute_result"
    }
   ],
   "source": [
    "# Feature Selection (Using Recency, Frequency, and Monetary Value)\n",
    "# Selecting features from the RFM DataFrame\n",
    "features = rfm_df[['Recency', 'Frequency', 'Monetary']]\n",
    "features.head()"
   ]
  },
  {
   "cell_type": "code",
   "execution_count": 58,
   "id": "2bd8d620",
   "metadata": {},
   "outputs": [
    {
     "data": {
      "text/plain": [
       "array([[ 2.34412669e+00, -4.11531197e-01,  1.00746074e+01],\n",
       "       [-9.01587778e-01,  6.51144738e-02,  3.12709282e-01],\n",
       "       [-9.21685081e-01,  2.02057306e+01,  4.17228119e+00],\n",
       "       ...,\n",
       "       [-8.51344520e-01, -3.60128233e-01, -2.24682298e-01],\n",
       "       [-8.91539127e-01,  2.95302648e+00,  2.50882396e-02],\n",
       "       [-4.99641715e-01, -8.90944198e-02, -2.76465002e-03]])"
      ]
     },
     "execution_count": 58,
     "metadata": {},
     "output_type": "execute_result"
    }
   ],
   "source": [
    "# Data Preprocessing\n",
    "scaler = StandardScaler()\n",
    "scaled_features = scaler.fit_transform(features)\n",
    "scaled_features"
   ]
  },
  {
   "cell_type": "code",
   "execution_count": 59,
   "id": "cfbb3b5f",
   "metadata": {},
   "outputs": [
    {
     "data": {
      "image/png": "[encoded data removed]",
      "text/plain": [
       "<Figure size 1000x600 with 1 Axes>"
      ]
     },
     "metadata": {},
     "output_type": "display_data"
    }
   ],
   "source": [
    "# Customer Segmentation (K-means Clustering) with Elbow Method\n",
    "# Define a range of clusters to test\n",
    "\n",
    "k_range = range(1, 11)\n",
    "wcss = []  # Within-cluster sum of squares\n",
    "\n",
    "# Calculate WCSS for each k\n",
    "for k in k_range:\n",
    "    kmeans = KMeans(n_clusters=k, random_state=42)\n",
    "    kmeans.fit(scaled_features)\n",
    "    wcss.append(kmeans.inertia_)  # Inertia is another name for WCSS\n",
    "\n",
    "# Plot the Elbow Method curve\n",
    "plt.figure(figsize=(10, 6))\n",
    "plt.plot(k_range, wcss, marker='o', linestyle='-')\n",
    "plt.title('Elbow Method for Optimal k')\n",
    "plt.xlabel('Number of Clusters (k)')\n",
    "plt.ylabel('Within-Cluster Sum of Squares (WCSS)')\n",
    "plt.xticks(k_range)\n",
    "plt.grid(True)\n",
    "plt.show()\n"
   ]
  },
  {
   "cell_type": "code",
   "execution_count": 60,
   "id": "153446f1",
   "metadata": {},
   "outputs": [
    {
     "name": "stdout",
     "output_type": "stream",
     "text": [
      "For k = 3 Silhouette Score: 0.5925840190221153\n",
      "For k = 4 Silhouette Score: 0.5956624364378685\n",
      "For k = 5 Silhouette Score: 0.6169392038733394\n",
      "For k = 6 Silhouette Score: 0.5918832466572921\n"
     ]
    },
    {
     "data": {
      "text/plain": [
       "['best_customer_segmentation_model.pkl']"
      ]
     },
     "execution_count": 60,
     "metadata": {},
     "output_type": "execute_result"
    }
   ],
   "source": [
    "# Define a range of clusters to test\n",
    "k_range = [3, 4, 5, 6]\n",
    "\n",
    "best_silhouette_score = -1  # Initialize with a negative value\n",
    "best_kmeans_model = None\n",
    "\n",
    "for k in k_range:\n",
    "    # Perform K-means clustering\n",
    "    kmeans = KMeans(n_clusters=k, random_state=42)\n",
    "    rfm_df['Cluster'] = kmeans.fit_predict(scaled_features)\n",
    "    \n",
    "    # Evaluate the clustering model using silhouette score\n",
    "    silhouette_avg = silhouette_score(scaled_features, rfm_df['Cluster'])\n",
    "    print(\"For k =\", k, \"Silhouette Score:\", silhouette_avg)\n",
    "    \n",
    "    # Save the best model based on silhouette score\n",
    "    if silhouette_avg > best_silhouette_score:\n",
    "        best_silhouette_score = silhouette_avg\n",
    "        best_kmeans_model = kmeans\n",
    "\n",
    "# Save the Best Model\n",
    "joblib.dump(best_kmeans_model, 'best_customer_segmentation_model.pkl')\n"
   ]
  },
  {
   "cell_type": "code",
   "execution_count": null,
   "id": "a00b18f8",
   "metadata": {},
   "outputs": [],
   "source": []
  }
 ],
 "metadata": {
  "kernelspec": {
   "display_name": "Python 3 (ipykernel)",
   "language": "python",
   "name": "python3"
  },
  "language_info": {
   "codemirror_mode": {
    "name": "ipython",
    "version": 3
   },
   "file_extension": ".py",
   "mimetype": "text/x-python",
   "name": "python",
   "nbconvert_exporter": "python",
   "pygments_lexer": "ipython3",
   "version": "3.9.13"
  }
 },
 "nbformat": 4,
 "nbformat_minor": 5
}
